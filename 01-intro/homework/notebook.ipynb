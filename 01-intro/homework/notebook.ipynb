{
 "cells": [
  {
   "cell_type": "markdown",
   "source": "# Homework 1 : \nThe goal of this homework is to train a simple model for predicting the duration of a ride - similar to what we did in this module.",
   "metadata": {
    "cell_id": "005c1d12a38c448bbc392d38cb4eeb72",
    "tags": [],
    "deepnote_cell_type": "markdown",
    "deepnote_cell_height": 142.78125
   }
  },
  {
   "cell_type": "code",
   "metadata": {
    "tags": [],
    "cell_id": "93d32b56-5ad3-475f-9b39-503cf5af47ee",
    "deepnote_to_be_reexecuted": false,
    "source_hash": "3d9794e2",
    "execution_start": 1653312322776,
    "execution_millis": 1544,
    "deepnote_cell_type": "code",
    "deepnote_cell_height": 135
   },
   "source": "import pandas as pd\nfrom sklearn.feature_extraction import DictVectorizer\nfrom sklearn.linear_model import LinearRegression\nfrom sklearn.metrics import mean_squared_error",
   "execution_count": 1,
   "outputs": []
  },
  {
   "cell_type": "markdown",
   "source": "### Q1. Downloading the data\nWe'll use the same NYC taxi dataset, but instead of \"Green Taxi Trip Records\", we'll use \"For-Hire Vehicle Trip Records\".\n\nDownload the data for January and February 2021.\n\nNote that you need \"For-Hire Vehicle Trip Records\", not \"High Volume For-Hire Vehicle Trip Records\".\n\nRead the data for January. How many records are there?\n\n### Answer:\n1154112",
   "metadata": {
    "cell_id": "6f241e48f9f44b08b3ad98d081116abe",
    "tags": [],
    "deepnote_cell_type": "markdown",
    "deepnote_cell_height": 322.34375
   }
  },
  {
   "cell_type": "code",
   "metadata": {
    "cell_id": "09b005be3a8f4eed85bc2cd24a8866ce",
    "tags": [],
    "deepnote_to_be_reexecuted": false,
    "source_hash": "c2019357",
    "execution_start": 1653312592281,
    "execution_millis": 594,
    "deepnote_cell_type": "code",
    "deepnote_cell_height": 81
   },
   "source": "jan_data = pd.read_parquet(\"data/fhv_tripdata_2021-01.parquet\")",
   "execution_count": 37,
   "outputs": []
  },
  {
   "cell_type": "code",
   "metadata": {
    "cell_id": "0b00a5fe3c7c4591bc67721e69be5c4c",
    "tags": [],
    "deepnote_to_be_reexecuted": false,
    "source_hash": "ba1bfebe",
    "execution_start": 1653312597022,
    "execution_millis": 221,
    "deepnote_cell_type": "code",
    "deepnote_cell_height": 617
   },
   "source": "jan_data",
   "execution_count": 38,
   "outputs": [
    {
     "output_type": "execute_result",
     "execution_count": 38,
     "data": {
      "application/vnd.deepnote.dataframe.v3+json": {
       "column_count": 7,
       "row_count": 1154112,
       "columns": [
        {
         "name": "dispatching_base_num",
         "dtype": "object"
        },
        {
         "name": "pickup_datetime",
         "dtype": "datetime64[ns]"
        },
        {
         "name": "dropOff_datetime",
         "dtype": "datetime64[ns]"
        },
        {
         "name": "PUlocationID",
         "dtype": "float64"
        },
        {
         "name": "DOlocationID",
         "dtype": "float64"
        },
        {
         "name": "SR_Flag",
         "dtype": "object"
        },
        {
         "name": "Affiliated_base_number",
         "dtype": "object"
        },
        {
         "name": "_deepnote_index_column",
         "dtype": "int64"
        }
       ],
       "rows": [
        {
         "dispatching_base_num": "B00009",
         "pickup_datetime": "2021-01-01T00:27:00.000000",
         "dropOff_datetime": "2021-01-01T00:44:00.000000",
         "PUlocationID": "nan",
         "DOlocationID": "nan",
         "SR_Flag": "None",
         "Affiliated_base_number": "B00009",
         "_deepnote_index_column": 0
        },
        {
         "dispatching_base_num": "B00009",
         "pickup_datetime": "2021-01-01T00:50:00.000000",
         "dropOff_datetime": "2021-01-01T01:07:00.000000",
         "PUlocationID": "nan",
         "DOlocationID": "nan",
         "SR_Flag": "None",
         "Affiliated_base_number": "B00009",
         "_deepnote_index_column": 1
        },
        {
         "dispatching_base_num": "B00013",
         "pickup_datetime": "2021-01-01T00:01:00.000000",
         "dropOff_datetime": "2021-01-01T01:51:00.000000",
         "PUlocationID": "nan",
         "DOlocationID": "nan",
         "SR_Flag": "None",
         "Affiliated_base_number": "B00013",
         "_deepnote_index_column": 2
        },
        {
         "dispatching_base_num": "B00037",
         "pickup_datetime": "2021-01-01T00:13:09.000000",
         "dropOff_datetime": "2021-01-01T00:21:26.000000",
         "PUlocationID": "nan",
         "DOlocationID": 72,
         "SR_Flag": "None",
         "Affiliated_base_number": "B00037",
         "_deepnote_index_column": 3
        },
        {
         "dispatching_base_num": "B00037",
         "pickup_datetime": "2021-01-01T00:38:31.000000",
         "dropOff_datetime": "2021-01-01T00:53:44.000000",
         "PUlocationID": "nan",
         "DOlocationID": 61,
         "SR_Flag": "None",
         "Affiliated_base_number": "B00037",
         "_deepnote_index_column": 4
        },
        {
         "dispatching_base_num": "B00037",
         "pickup_datetime": "2021-01-01T00:59:02.000000",
         "dropOff_datetime": "2021-01-01T01:08:05.000000",
         "PUlocationID": "nan",
         "DOlocationID": 71,
         "SR_Flag": "None",
         "Affiliated_base_number": "B00037",
         "_deepnote_index_column": 5
        },
        {
         "dispatching_base_num": "B00037",
         "pickup_datetime": "2021-01-01T00:18:12.000000",
         "dropOff_datetime": "2021-01-01T00:30:04.000000",
         "PUlocationID": "nan",
         "DOlocationID": 91,
         "SR_Flag": "None",
         "Affiliated_base_number": "B00037",
         "_deepnote_index_column": 6
        },
        {
         "dispatching_base_num": "B00037",
         "pickup_datetime": "2021-01-01T00:36:15.000000",
         "dropOff_datetime": "2021-01-01T00:45:08.000000",
         "PUlocationID": "nan",
         "DOlocationID": 39,
         "SR_Flag": "None",
         "Affiliated_base_number": "B00037",
         "_deepnote_index_column": 7
        },
        {
         "dispatching_base_num": "B00037",
         "pickup_datetime": "2021-01-01T00:55:04.000000",
         "dropOff_datetime": "2021-01-01T01:13:02.000000",
         "PUlocationID": "nan",
         "DOlocationID": 37,
         "SR_Flag": "None",
         "Affiliated_base_number": "B00037",
         "_deepnote_index_column": 8
        },
        {
         "dispatching_base_num": "B00037",
         "pickup_datetime": "2021-01-01T00:48:40.000000",
         "dropOff_datetime": "2021-01-01T01:12:02.000000",
         "PUlocationID": "nan",
         "DOlocationID": 39,
         "SR_Flag": "None",
         "Affiliated_base_number": "B00037",
         "_deepnote_index_column": 9
        }
       ]
      },
      "text/plain": "        dispatching_base_num     pickup_datetime    dropOff_datetime  \\\n0                     B00009 2021-01-01 00:27:00 2021-01-01 00:44:00   \n1                     B00009 2021-01-01 00:50:00 2021-01-01 01:07:00   \n2                     B00013 2021-01-01 00:01:00 2021-01-01 01:51:00   \n3                     B00037 2021-01-01 00:13:09 2021-01-01 00:21:26   \n4                     B00037 2021-01-01 00:38:31 2021-01-01 00:53:44   \n...                      ...                 ...                 ...   \n1154107               B03266 2021-01-31 23:43:03 2021-01-31 23:51:48   \n1154108               B03284 2021-01-31 23:50:27 2021-02-01 00:48:03   \n1154109      B03285          2021-01-31 23:13:46 2021-01-31 23:29:58   \n1154110      B03285          2021-01-31 23:58:03 2021-02-01 00:17:29   \n1154111               B03321 2021-01-31 23:39:00 2021-02-01 00:15:00   \n\n         PUlocationID  DOlocationID SR_Flag Affiliated_base_number  \n0                 NaN           NaN    None                 B00009  \n1                 NaN           NaN    None                 B00009  \n2                 NaN           NaN    None                 B00013  \n3                 NaN          72.0    None                 B00037  \n4                 NaN          61.0    None                 B00037  \n...               ...           ...     ...                    ...  \n1154107           7.0           7.0    None                 B03266  \n1154108          44.0          91.0    None                         \n1154109         171.0         171.0    None        B03285           \n1154110          15.0          15.0    None        B03285           \n1154111           NaN           NaN    None                 B03321  \n\n[1154112 rows x 7 columns]",
      "text/html": "<div>\n<style scoped>\n    .dataframe tbody tr th:only-of-type {\n        vertical-align: middle;\n    }\n\n    .dataframe tbody tr th {\n        vertical-align: top;\n    }\n\n    .dataframe thead th {\n        text-align: right;\n    }\n</style>\n<table border=\"1\" class=\"dataframe\">\n  <thead>\n    <tr style=\"text-align: right;\">\n      <th></th>\n      <th>dispatching_base_num</th>\n      <th>pickup_datetime</th>\n      <th>dropOff_datetime</th>\n      <th>PUlocationID</th>\n      <th>DOlocationID</th>\n      <th>SR_Flag</th>\n      <th>Affiliated_base_number</th>\n    </tr>\n  </thead>\n  <tbody>\n    <tr>\n      <th>0</th>\n      <td>B00009</td>\n      <td>2021-01-01 00:27:00</td>\n      <td>2021-01-01 00:44:00</td>\n      <td>NaN</td>\n      <td>NaN</td>\n      <td>None</td>\n      <td>B00009</td>\n    </tr>\n    <tr>\n      <th>1</th>\n      <td>B00009</td>\n      <td>2021-01-01 00:50:00</td>\n      <td>2021-01-01 01:07:00</td>\n      <td>NaN</td>\n      <td>NaN</td>\n      <td>None</td>\n      <td>B00009</td>\n    </tr>\n    <tr>\n      <th>2</th>\n      <td>B00013</td>\n      <td>2021-01-01 00:01:00</td>\n      <td>2021-01-01 01:51:00</td>\n      <td>NaN</td>\n      <td>NaN</td>\n      <td>None</td>\n      <td>B00013</td>\n    </tr>\n    <tr>\n      <th>3</th>\n      <td>B00037</td>\n      <td>2021-01-01 00:13:09</td>\n      <td>2021-01-01 00:21:26</td>\n      <td>NaN</td>\n      <td>72.0</td>\n      <td>None</td>\n      <td>B00037</td>\n    </tr>\n    <tr>\n      <th>4</th>\n      <td>B00037</td>\n      <td>2021-01-01 00:38:31</td>\n      <td>2021-01-01 00:53:44</td>\n      <td>NaN</td>\n      <td>61.0</td>\n      <td>None</td>\n      <td>B00037</td>\n    </tr>\n    <tr>\n      <th>...</th>\n      <td>...</td>\n      <td>...</td>\n      <td>...</td>\n      <td>...</td>\n      <td>...</td>\n      <td>...</td>\n      <td>...</td>\n    </tr>\n    <tr>\n      <th>1154107</th>\n      <td>B03266</td>\n      <td>2021-01-31 23:43:03</td>\n      <td>2021-01-31 23:51:48</td>\n      <td>7.0</td>\n      <td>7.0</td>\n      <td>None</td>\n      <td>B03266</td>\n    </tr>\n    <tr>\n      <th>1154108</th>\n      <td>B03284</td>\n      <td>2021-01-31 23:50:27</td>\n      <td>2021-02-01 00:48:03</td>\n      <td>44.0</td>\n      <td>91.0</td>\n      <td>None</td>\n      <td></td>\n    </tr>\n    <tr>\n      <th>1154109</th>\n      <td>B03285</td>\n      <td>2021-01-31 23:13:46</td>\n      <td>2021-01-31 23:29:58</td>\n      <td>171.0</td>\n      <td>171.0</td>\n      <td>None</td>\n      <td>B03285</td>\n    </tr>\n    <tr>\n      <th>1154110</th>\n      <td>B03285</td>\n      <td>2021-01-31 23:58:03</td>\n      <td>2021-02-01 00:17:29</td>\n      <td>15.0</td>\n      <td>15.0</td>\n      <td>None</td>\n      <td>B03285</td>\n    </tr>\n    <tr>\n      <th>1154111</th>\n      <td>B03321</td>\n      <td>2021-01-31 23:39:00</td>\n      <td>2021-02-01 00:15:00</td>\n      <td>NaN</td>\n      <td>NaN</td>\n      <td>None</td>\n      <td>B03321</td>\n    </tr>\n  </tbody>\n</table>\n<p>1154112 rows × 7 columns</p>\n</div>"
     },
     "metadata": {}
    }
   ]
  },
  {
   "cell_type": "markdown",
   "source": "### Q2. Computing duration\nNow let's compute the duration variable. It should contain the duration of a ride in minutes.\n\nWhat's the average trip duration in January?\n\n### Answer:\n19.16",
   "metadata": {
    "cell_id": "0918913d657b45849442eb209559b481",
    "tags": [],
    "deepnote_cell_type": "markdown",
    "deepnote_cell_height": 227.171875
   }
  },
  {
   "cell_type": "code",
   "metadata": {
    "cell_id": "8c002dc01a9b416f8466873f28d554ee",
    "tags": [],
    "deepnote_to_be_reexecuted": false,
    "source_hash": "8aa1f10f",
    "execution_start": 1653312325755,
    "execution_millis": 17,
    "deepnote_cell_type": "code",
    "deepnote_cell_height": 81
   },
   "source": "jan_data[\"duration\"] = jan_data[\"dropOff_datetime\"] - jan_data[\"pickup_datetime\"]",
   "execution_count": 4,
   "outputs": []
  },
  {
   "cell_type": "code",
   "metadata": {
    "cell_id": "f92767b48dde4159a2f1872ac3e1aa8c",
    "tags": [],
    "deepnote_to_be_reexecuted": false,
    "source_hash": "17721439",
    "execution_start": 1653312325777,
    "execution_millis": 677,
    "deepnote_cell_type": "code",
    "deepnote_cell_height": 329.25,
    "deepnote_output_heights": [
     232.25
    ]
   },
   "source": "jan_data['duration']",
   "execution_count": 5,
   "outputs": [
    {
     "output_type": "execute_result",
     "execution_count": 5,
     "data": {
      "text/plain": "0         0 days 00:17:00\n1         0 days 00:17:00\n2         0 days 01:50:00\n3         0 days 00:08:17\n4         0 days 00:15:13\n                ...      \n1154107   0 days 00:08:45\n1154108   0 days 00:57:36\n1154109   0 days 00:16:12\n1154110   0 days 00:19:26\n1154111   0 days 00:36:00\nName: duration, Length: 1154112, dtype: timedelta64[ns]"
     },
     "metadata": {}
    }
   ]
  },
  {
   "cell_type": "code",
   "metadata": {
    "cell_id": "551562c945a84bc3a1aacb821fec11b8",
    "tags": [],
    "deepnote_to_be_reexecuted": false,
    "source_hash": "ee67a37c",
    "execution_start": 1653312325848,
    "execution_millis": 19496,
    "deepnote_cell_type": "code",
    "deepnote_cell_height": 81
   },
   "source": "jan_data['duration'] = jan_data['duration'].apply(lambda val: val.total_seconds() / 60)",
   "execution_count": 6,
   "outputs": []
  },
  {
   "cell_type": "code",
   "metadata": {
    "cell_id": "1a5ba5b3c638419a94c449ddaf824bf2",
    "tags": [],
    "deepnote_to_be_reexecuted": false,
    "source_hash": "c3e37a55",
    "execution_start": 1653312345355,
    "execution_millis": 449,
    "deepnote_cell_type": "code",
    "deepnote_cell_height": 136.1875,
    "deepnote_output_heights": [
     21.1875
    ]
   },
   "source": "avg_trip_time = sum(jan_data['duration'])/jan_data['duration'].count()\navg_trip_time",
   "execution_count": 7,
   "outputs": [
    {
     "output_type": "execute_result",
     "execution_count": 7,
     "data": {
      "text/plain": "19.1672240937939"
     },
     "metadata": {}
    }
   ]
  },
  {
   "cell_type": "markdown",
   "source": "### Data preparation\nCheck the distribution of the duration variable. There are some outliers.\n\nLet's remove them and keep only the records where the duration was between 1 and 60 minutes (inclusive).\n\nHow many records did you drop?",
   "metadata": {
    "cell_id": "da20f7c0140a4c3882a129ebd6f71d6d",
    "tags": [],
    "deepnote_cell_type": "markdown",
    "deepnote_cell_height": 173.171875
   }
  },
  {
   "cell_type": "code",
   "metadata": {
    "cell_id": "5efaa0fdb36b4256967847633708bcda",
    "tags": [],
    "deepnote_to_be_reexecuted": false,
    "source_hash": "1a8bc551",
    "execution_start": 1653312345679,
    "execution_millis": 139,
    "deepnote_cell_type": "code",
    "deepnote_cell_height": 271.6875,
    "deepnote_output_heights": [
     174.6875,
     263
    ]
   },
   "source": "jan_data[\"duration\"].describe()",
   "execution_count": 8,
   "outputs": [
    {
     "output_type": "execute_result",
     "execution_count": 8,
     "data": {
      "text/plain": "count    1.154112e+06\nmean     1.916722e+01\nstd      3.986922e+02\nmin      1.666667e-02\n25%      7.766667e+00\n50%      1.340000e+01\n75%      2.228333e+01\nmax      4.233710e+05\nName: duration, dtype: float64"
     },
     "metadata": {}
    }
   ]
  },
  {
   "cell_type": "code",
   "metadata": {
    "cell_id": "523a3bf4d83a4193b3a9c090abba4e75",
    "tags": [],
    "deepnote_to_be_reexecuted": false,
    "source_hash": "1290fe4d",
    "execution_start": 1653312345829,
    "execution_millis": 15,
    "deepnote_cell_type": "code",
    "deepnote_cell_height": 99
   },
   "source": "# Original no. of records in the dataset\noriginal_records = jan_data[\"duration\"].count()",
   "execution_count": 9,
   "outputs": []
  },
  {
   "cell_type": "code",
   "metadata": {
    "cell_id": "db1796bc1eb943a4957afd05e246de4a",
    "tags": [],
    "deepnote_to_be_reexecuted": false,
    "source_hash": "930d638b",
    "execution_start": 1653312345870,
    "execution_millis": 162,
    "deepnote_cell_type": "code",
    "deepnote_cell_height": 81,
    "deepnote_output_heights": [
     21.1875
    ]
   },
   "source": "jan_data = jan_data[(jan_data[\"duration\"] >= 1) & (jan_data[\"duration\"] <= 60)]",
   "execution_count": 10,
   "outputs": []
  },
  {
   "cell_type": "code",
   "metadata": {
    "cell_id": "1f553317a218467a99c2fd6df151c7b0",
    "tags": [],
    "deepnote_to_be_reexecuted": false,
    "source_hash": "ba1bfebe",
    "execution_start": 1653312346040,
    "execution_millis": 261,
    "deepnote_cell_type": "code",
    "deepnote_cell_height": 617
   },
   "source": "jan_data",
   "execution_count": 11,
   "outputs": [
    {
     "output_type": "execute_result",
     "execution_count": 11,
     "data": {
      "application/vnd.deepnote.dataframe.v3+json": {
       "column_count": 8,
       "row_count": 1109826,
       "columns": [
        {
         "name": "dispatching_base_num",
         "dtype": "object"
        },
        {
         "name": "pickup_datetime",
         "dtype": "datetime64[ns]"
        },
        {
         "name": "dropOff_datetime",
         "dtype": "datetime64[ns]"
        },
        {
         "name": "PUlocationID",
         "dtype": "float64"
        },
        {
         "name": "DOlocationID",
         "dtype": "float64"
        },
        {
         "name": "SR_Flag",
         "dtype": "object"
        },
        {
         "name": "Affiliated_base_number",
         "dtype": "object"
        },
        {
         "name": "duration",
         "dtype": "float64"
        },
        {
         "name": "_deepnote_index_column",
         "dtype": "int64"
        }
       ],
       "rows": [
        {
         "dispatching_base_num": "B00009",
         "pickup_datetime": "2021-01-01T00:27:00.000000",
         "dropOff_datetime": "2021-01-01T00:44:00.000000",
         "PUlocationID": "nan",
         "DOlocationID": "nan",
         "SR_Flag": "None",
         "Affiliated_base_number": "B00009",
         "duration": 17,
         "_deepnote_index_column": 0
        },
        {
         "dispatching_base_num": "B00009",
         "pickup_datetime": "2021-01-01T00:50:00.000000",
         "dropOff_datetime": "2021-01-01T01:07:00.000000",
         "PUlocationID": "nan",
         "DOlocationID": "nan",
         "SR_Flag": "None",
         "Affiliated_base_number": "B00009",
         "duration": 17,
         "_deepnote_index_column": 1
        },
        {
         "dispatching_base_num": "B00037",
         "pickup_datetime": "2021-01-01T00:13:09.000000",
         "dropOff_datetime": "2021-01-01T00:21:26.000000",
         "PUlocationID": "nan",
         "DOlocationID": 72,
         "SR_Flag": "None",
         "Affiliated_base_number": "B00037",
         "duration": 8.283333333333333,
         "_deepnote_index_column": 3
        },
        {
         "dispatching_base_num": "B00037",
         "pickup_datetime": "2021-01-01T00:38:31.000000",
         "dropOff_datetime": "2021-01-01T00:53:44.000000",
         "PUlocationID": "nan",
         "DOlocationID": 61,
         "SR_Flag": "None",
         "Affiliated_base_number": "B00037",
         "duration": 15.216666666666667,
         "_deepnote_index_column": 4
        },
        {
         "dispatching_base_num": "B00037",
         "pickup_datetime": "2021-01-01T00:59:02.000000",
         "dropOff_datetime": "2021-01-01T01:08:05.000000",
         "PUlocationID": "nan",
         "DOlocationID": 71,
         "SR_Flag": "None",
         "Affiliated_base_number": "B00037",
         "duration": 9.05,
         "_deepnote_index_column": 5
        },
        {
         "dispatching_base_num": "B00037",
         "pickup_datetime": "2021-01-01T00:18:12.000000",
         "dropOff_datetime": "2021-01-01T00:30:04.000000",
         "PUlocationID": "nan",
         "DOlocationID": 91,
         "SR_Flag": "None",
         "Affiliated_base_number": "B00037",
         "duration": 11.866666666666667,
         "_deepnote_index_column": 6
        },
        {
         "dispatching_base_num": "B00037",
         "pickup_datetime": "2021-01-01T00:36:15.000000",
         "dropOff_datetime": "2021-01-01T00:45:08.000000",
         "PUlocationID": "nan",
         "DOlocationID": 39,
         "SR_Flag": "None",
         "Affiliated_base_number": "B00037",
         "duration": 8.883333333333333,
         "_deepnote_index_column": 7
        },
        {
         "dispatching_base_num": "B00037",
         "pickup_datetime": "2021-01-01T00:55:04.000000",
         "dropOff_datetime": "2021-01-01T01:13:02.000000",
         "PUlocationID": "nan",
         "DOlocationID": 37,
         "SR_Flag": "None",
         "Affiliated_base_number": "B00037",
         "duration": 17.966666666666665,
         "_deepnote_index_column": 8
        },
        {
         "dispatching_base_num": "B00037",
         "pickup_datetime": "2021-01-01T00:48:40.000000",
         "dropOff_datetime": "2021-01-01T01:12:02.000000",
         "PUlocationID": "nan",
         "DOlocationID": 39,
         "SR_Flag": "None",
         "Affiliated_base_number": "B00037",
         "duration": 23.366666666666667,
         "_deepnote_index_column": 9
        },
        {
         "dispatching_base_num": "B00037",
         "pickup_datetime": "2021-01-01T00:27:23.000000",
         "dropOff_datetime": "2021-01-01T00:29:25.000000",
         "PUlocationID": "nan",
         "DOlocationID": 72,
         "SR_Flag": "None",
         "Affiliated_base_number": "B00037",
         "duration": 2.033333333333333,
         "_deepnote_index_column": 10
        }
       ]
      },
      "text/plain": "        dispatching_base_num     pickup_datetime    dropOff_datetime  \\\n0                     B00009 2021-01-01 00:27:00 2021-01-01 00:44:00   \n1                     B00009 2021-01-01 00:50:00 2021-01-01 01:07:00   \n3                     B00037 2021-01-01 00:13:09 2021-01-01 00:21:26   \n4                     B00037 2021-01-01 00:38:31 2021-01-01 00:53:44   \n5                     B00037 2021-01-01 00:59:02 2021-01-01 01:08:05   \n...                      ...                 ...                 ...   \n1154107               B03266 2021-01-31 23:43:03 2021-01-31 23:51:48   \n1154108               B03284 2021-01-31 23:50:27 2021-02-01 00:48:03   \n1154109      B03285          2021-01-31 23:13:46 2021-01-31 23:29:58   \n1154110      B03285          2021-01-31 23:58:03 2021-02-01 00:17:29   \n1154111               B03321 2021-01-31 23:39:00 2021-02-01 00:15:00   \n\n         PUlocationID  DOlocationID SR_Flag Affiliated_base_number   duration  \n0                 NaN           NaN    None                 B00009  17.000000  \n1                 NaN           NaN    None                 B00009  17.000000  \n3                 NaN          72.0    None                 B00037   8.283333  \n4                 NaN          61.0    None                 B00037  15.216667  \n5                 NaN          71.0    None                 B00037   9.050000  \n...               ...           ...     ...                    ...        ...  \n1154107           7.0           7.0    None                 B03266   8.750000  \n1154108          44.0          91.0    None                         57.600000  \n1154109         171.0         171.0    None        B03285           16.200000  \n1154110          15.0          15.0    None        B03285           19.433333  \n1154111           NaN           NaN    None                 B03321  36.000000  \n\n[1109826 rows x 8 columns]",
      "text/html": "<div>\n<style scoped>\n    .dataframe tbody tr th:only-of-type {\n        vertical-align: middle;\n    }\n\n    .dataframe tbody tr th {\n        vertical-align: top;\n    }\n\n    .dataframe thead th {\n        text-align: right;\n    }\n</style>\n<table border=\"1\" class=\"dataframe\">\n  <thead>\n    <tr style=\"text-align: right;\">\n      <th></th>\n      <th>dispatching_base_num</th>\n      <th>pickup_datetime</th>\n      <th>dropOff_datetime</th>\n      <th>PUlocationID</th>\n      <th>DOlocationID</th>\n      <th>SR_Flag</th>\n      <th>Affiliated_base_number</th>\n      <th>duration</th>\n    </tr>\n  </thead>\n  <tbody>\n    <tr>\n      <th>0</th>\n      <td>B00009</td>\n      <td>2021-01-01 00:27:00</td>\n      <td>2021-01-01 00:44:00</td>\n      <td>NaN</td>\n      <td>NaN</td>\n      <td>None</td>\n      <td>B00009</td>\n      <td>17.000000</td>\n    </tr>\n    <tr>\n      <th>1</th>\n      <td>B00009</td>\n      <td>2021-01-01 00:50:00</td>\n      <td>2021-01-01 01:07:00</td>\n      <td>NaN</td>\n      <td>NaN</td>\n      <td>None</td>\n      <td>B00009</td>\n      <td>17.000000</td>\n    </tr>\n    <tr>\n      <th>3</th>\n      <td>B00037</td>\n      <td>2021-01-01 00:13:09</td>\n      <td>2021-01-01 00:21:26</td>\n      <td>NaN</td>\n      <td>72.0</td>\n      <td>None</td>\n      <td>B00037</td>\n      <td>8.283333</td>\n    </tr>\n    <tr>\n      <th>4</th>\n      <td>B00037</td>\n      <td>2021-01-01 00:38:31</td>\n      <td>2021-01-01 00:53:44</td>\n      <td>NaN</td>\n      <td>61.0</td>\n      <td>None</td>\n      <td>B00037</td>\n      <td>15.216667</td>\n    </tr>\n    <tr>\n      <th>5</th>\n      <td>B00037</td>\n      <td>2021-01-01 00:59:02</td>\n      <td>2021-01-01 01:08:05</td>\n      <td>NaN</td>\n      <td>71.0</td>\n      <td>None</td>\n      <td>B00037</td>\n      <td>9.050000</td>\n    </tr>\n    <tr>\n      <th>...</th>\n      <td>...</td>\n      <td>...</td>\n      <td>...</td>\n      <td>...</td>\n      <td>...</td>\n      <td>...</td>\n      <td>...</td>\n      <td>...</td>\n    </tr>\n    <tr>\n      <th>1154107</th>\n      <td>B03266</td>\n      <td>2021-01-31 23:43:03</td>\n      <td>2021-01-31 23:51:48</td>\n      <td>7.0</td>\n      <td>7.0</td>\n      <td>None</td>\n      <td>B03266</td>\n      <td>8.750000</td>\n    </tr>\n    <tr>\n      <th>1154108</th>\n      <td>B03284</td>\n      <td>2021-01-31 23:50:27</td>\n      <td>2021-02-01 00:48:03</td>\n      <td>44.0</td>\n      <td>91.0</td>\n      <td>None</td>\n      <td></td>\n      <td>57.600000</td>\n    </tr>\n    <tr>\n      <th>1154109</th>\n      <td>B03285</td>\n      <td>2021-01-31 23:13:46</td>\n      <td>2021-01-31 23:29:58</td>\n      <td>171.0</td>\n      <td>171.0</td>\n      <td>None</td>\n      <td>B03285</td>\n      <td>16.200000</td>\n    </tr>\n    <tr>\n      <th>1154110</th>\n      <td>B03285</td>\n      <td>2021-01-31 23:58:03</td>\n      <td>2021-02-01 00:17:29</td>\n      <td>15.0</td>\n      <td>15.0</td>\n      <td>None</td>\n      <td>B03285</td>\n      <td>19.433333</td>\n    </tr>\n    <tr>\n      <th>1154111</th>\n      <td>B03321</td>\n      <td>2021-01-31 23:39:00</td>\n      <td>2021-02-01 00:15:00</td>\n      <td>NaN</td>\n      <td>NaN</td>\n      <td>None</td>\n      <td>B03321</td>\n      <td>36.000000</td>\n    </tr>\n  </tbody>\n</table>\n<p>1109826 rows × 8 columns</p>\n</div>"
     },
     "metadata": {}
    }
   ]
  },
  {
   "cell_type": "code",
   "metadata": {
    "cell_id": "0004860b18e7403c8af31086057d24a7",
    "tags": [],
    "deepnote_to_be_reexecuted": false,
    "source_hash": "c0ff18d8",
    "execution_start": 1653312346307,
    "execution_millis": 10,
    "deepnote_cell_type": "code",
    "deepnote_cell_height": 99
   },
   "source": "# Records after dropping records\nrecords_after_dropping = jan_data[\"duration\"].count()",
   "execution_count": 12,
   "outputs": []
  },
  {
   "cell_type": "code",
   "metadata": {
    "cell_id": "f7bb1c60e8164112ad6d19bdcdebfead",
    "tags": [],
    "deepnote_to_be_reexecuted": false,
    "source_hash": "18f357f5",
    "execution_start": 1653312346324,
    "execution_millis": 12,
    "deepnote_cell_type": "code",
    "deepnote_cell_height": 136,
    "deepnote_output_heights": [
     21
    ]
   },
   "source": "total_records_dropped = original_records - records_after_dropping\ntotal_records_dropped",
   "execution_count": 13,
   "outputs": [
    {
     "output_type": "execute_result",
     "execution_count": 13,
     "data": {
      "text/plain": "44286"
     },
     "metadata": {}
    }
   ]
  },
  {
   "cell_type": "markdown",
   "source": "### Q3. Missing values\n\nThe features we'll use for our model are the pickup and dropoff location IDs.\n\nBut they have a lot of missing values there. Let's replace them with \"-1\".\n\nWhat's the fractions of missing values for the pickup location ID? I.e. fraction of \"-1\"s after you filled the NAs.\n\n### Answer:\n83%",
   "metadata": {
    "cell_id": "bf9bccbb4b7647839eaaf7005d0d7165",
    "tags": [],
    "deepnote_cell_type": "markdown",
    "deepnote_cell_height": 285.953125
   }
  },
  {
   "cell_type": "code",
   "metadata": {
    "cell_id": "0f61d11be0254bb6b8c8c0739c472f7c",
    "tags": [],
    "deepnote_to_be_reexecuted": false,
    "source_hash": "b8dab379",
    "execution_start": 1653312346384,
    "execution_millis": 2,
    "deepnote_cell_type": "code",
    "deepnote_cell_height": 232.9375,
    "deepnote_output_heights": [
     232.25
    ]
   },
   "source": "# Fill missing values for columns PUlocationID and DOlocationID\njan_data[\"PUlocationID\"].fillna(-1, inplace=True)\njan_data[\"DOlocationID\"].fillna(-1, inplace=True)",
   "execution_count": 14,
   "outputs": [
    {
     "name": "stderr",
     "text": "/shared-libs/python3.7/py/lib/python3.7/site-packages/pandas/core/series.py:4469: SettingWithCopyWarning: \nA value is trying to be set on a copy of a slice from a DataFrame\n\nSee the caveats in the documentation: https://pandas.pydata.org/pandas-docs/stable/user_guide/indexing.html#returning-a-view-versus-a-copy\n  downcast=downcast,\n",
     "output_type": "stream"
    }
   ]
  },
  {
   "cell_type": "code",
   "metadata": {
    "cell_id": "15a3676165bc40a1aba347805d729f9f",
    "tags": [],
    "deepnote_to_be_reexecuted": false,
    "source_hash": "ba1bfebe",
    "execution_start": 1653312346385,
    "execution_millis": 267,
    "deepnote_cell_type": "code",
    "deepnote_cell_height": 617
   },
   "source": "jan_data",
   "execution_count": 15,
   "outputs": [
    {
     "output_type": "execute_result",
     "execution_count": 15,
     "data": {
      "application/vnd.deepnote.dataframe.v3+json": {
       "column_count": 8,
       "row_count": 1109826,
       "columns": [
        {
         "name": "dispatching_base_num",
         "dtype": "object"
        },
        {
         "name": "pickup_datetime",
         "dtype": "datetime64[ns]"
        },
        {
         "name": "dropOff_datetime",
         "dtype": "datetime64[ns]"
        },
        {
         "name": "PUlocationID",
         "dtype": "float64"
        },
        {
         "name": "DOlocationID",
         "dtype": "float64"
        },
        {
         "name": "SR_Flag",
         "dtype": "object"
        },
        {
         "name": "Affiliated_base_number",
         "dtype": "object"
        },
        {
         "name": "duration",
         "dtype": "float64"
        },
        {
         "name": "_deepnote_index_column",
         "dtype": "int64"
        }
       ],
       "rows": [
        {
         "dispatching_base_num": "B00009",
         "pickup_datetime": "2021-01-01T00:27:00.000000",
         "dropOff_datetime": "2021-01-01T00:44:00.000000",
         "PUlocationID": -1,
         "DOlocationID": -1,
         "SR_Flag": "None",
         "Affiliated_base_number": "B00009",
         "duration": 17,
         "_deepnote_index_column": 0
        },
        {
         "dispatching_base_num": "B00009",
         "pickup_datetime": "2021-01-01T00:50:00.000000",
         "dropOff_datetime": "2021-01-01T01:07:00.000000",
         "PUlocationID": -1,
         "DOlocationID": -1,
         "SR_Flag": "None",
         "Affiliated_base_number": "B00009",
         "duration": 17,
         "_deepnote_index_column": 1
        },
        {
         "dispatching_base_num": "B00037",
         "pickup_datetime": "2021-01-01T00:13:09.000000",
         "dropOff_datetime": "2021-01-01T00:21:26.000000",
         "PUlocationID": -1,
         "DOlocationID": 72,
         "SR_Flag": "None",
         "Affiliated_base_number": "B00037",
         "duration": 8.283333333333333,
         "_deepnote_index_column": 3
        },
        {
         "dispatching_base_num": "B00037",
         "pickup_datetime": "2021-01-01T00:38:31.000000",
         "dropOff_datetime": "2021-01-01T00:53:44.000000",
         "PUlocationID": -1,
         "DOlocationID": 61,
         "SR_Flag": "None",
         "Affiliated_base_number": "B00037",
         "duration": 15.216666666666667,
         "_deepnote_index_column": 4
        },
        {
         "dispatching_base_num": "B00037",
         "pickup_datetime": "2021-01-01T00:59:02.000000",
         "dropOff_datetime": "2021-01-01T01:08:05.000000",
         "PUlocationID": -1,
         "DOlocationID": 71,
         "SR_Flag": "None",
         "Affiliated_base_number": "B00037",
         "duration": 9.05,
         "_deepnote_index_column": 5
        },
        {
         "dispatching_base_num": "B00037",
         "pickup_datetime": "2021-01-01T00:18:12.000000",
         "dropOff_datetime": "2021-01-01T00:30:04.000000",
         "PUlocationID": -1,
         "DOlocationID": 91,
         "SR_Flag": "None",
         "Affiliated_base_number": "B00037",
         "duration": 11.866666666666667,
         "_deepnote_index_column": 6
        },
        {
         "dispatching_base_num": "B00037",
         "pickup_datetime": "2021-01-01T00:36:15.000000",
         "dropOff_datetime": "2021-01-01T00:45:08.000000",
         "PUlocationID": -1,
         "DOlocationID": 39,
         "SR_Flag": "None",
         "Affiliated_base_number": "B00037",
         "duration": 8.883333333333333,
         "_deepnote_index_column": 7
        },
        {
         "dispatching_base_num": "B00037",
         "pickup_datetime": "2021-01-01T00:55:04.000000",
         "dropOff_datetime": "2021-01-01T01:13:02.000000",
         "PUlocationID": -1,
         "DOlocationID": 37,
         "SR_Flag": "None",
         "Affiliated_base_number": "B00037",
         "duration": 17.966666666666665,
         "_deepnote_index_column": 8
        },
        {
         "dispatching_base_num": "B00037",
         "pickup_datetime": "2021-01-01T00:48:40.000000",
         "dropOff_datetime": "2021-01-01T01:12:02.000000",
         "PUlocationID": -1,
         "DOlocationID": 39,
         "SR_Flag": "None",
         "Affiliated_base_number": "B00037",
         "duration": 23.366666666666667,
         "_deepnote_index_column": 9
        },
        {
         "dispatching_base_num": "B00037",
         "pickup_datetime": "2021-01-01T00:27:23.000000",
         "dropOff_datetime": "2021-01-01T00:29:25.000000",
         "PUlocationID": -1,
         "DOlocationID": 72,
         "SR_Flag": "None",
         "Affiliated_base_number": "B00037",
         "duration": 2.033333333333333,
         "_deepnote_index_column": 10
        }
       ]
      },
      "text/plain": "        dispatching_base_num     pickup_datetime    dropOff_datetime  \\\n0                     B00009 2021-01-01 00:27:00 2021-01-01 00:44:00   \n1                     B00009 2021-01-01 00:50:00 2021-01-01 01:07:00   \n3                     B00037 2021-01-01 00:13:09 2021-01-01 00:21:26   \n4                     B00037 2021-01-01 00:38:31 2021-01-01 00:53:44   \n5                     B00037 2021-01-01 00:59:02 2021-01-01 01:08:05   \n...                      ...                 ...                 ...   \n1154107               B03266 2021-01-31 23:43:03 2021-01-31 23:51:48   \n1154108               B03284 2021-01-31 23:50:27 2021-02-01 00:48:03   \n1154109      B03285          2021-01-31 23:13:46 2021-01-31 23:29:58   \n1154110      B03285          2021-01-31 23:58:03 2021-02-01 00:17:29   \n1154111               B03321 2021-01-31 23:39:00 2021-02-01 00:15:00   \n\n         PUlocationID  DOlocationID SR_Flag Affiliated_base_number   duration  \n0                -1.0          -1.0    None                 B00009  17.000000  \n1                -1.0          -1.0    None                 B00009  17.000000  \n3                -1.0          72.0    None                 B00037   8.283333  \n4                -1.0          61.0    None                 B00037  15.216667  \n5                -1.0          71.0    None                 B00037   9.050000  \n...               ...           ...     ...                    ...        ...  \n1154107           7.0           7.0    None                 B03266   8.750000  \n1154108          44.0          91.0    None                         57.600000  \n1154109         171.0         171.0    None        B03285           16.200000  \n1154110          15.0          15.0    None        B03285           19.433333  \n1154111          -1.0          -1.0    None                 B03321  36.000000  \n\n[1109826 rows x 8 columns]",
      "text/html": "<div>\n<style scoped>\n    .dataframe tbody tr th:only-of-type {\n        vertical-align: middle;\n    }\n\n    .dataframe tbody tr th {\n        vertical-align: top;\n    }\n\n    .dataframe thead th {\n        text-align: right;\n    }\n</style>\n<table border=\"1\" class=\"dataframe\">\n  <thead>\n    <tr style=\"text-align: right;\">\n      <th></th>\n      <th>dispatching_base_num</th>\n      <th>pickup_datetime</th>\n      <th>dropOff_datetime</th>\n      <th>PUlocationID</th>\n      <th>DOlocationID</th>\n      <th>SR_Flag</th>\n      <th>Affiliated_base_number</th>\n      <th>duration</th>\n    </tr>\n  </thead>\n  <tbody>\n    <tr>\n      <th>0</th>\n      <td>B00009</td>\n      <td>2021-01-01 00:27:00</td>\n      <td>2021-01-01 00:44:00</td>\n      <td>-1.0</td>\n      <td>-1.0</td>\n      <td>None</td>\n      <td>B00009</td>\n      <td>17.000000</td>\n    </tr>\n    <tr>\n      <th>1</th>\n      <td>B00009</td>\n      <td>2021-01-01 00:50:00</td>\n      <td>2021-01-01 01:07:00</td>\n      <td>-1.0</td>\n      <td>-1.0</td>\n      <td>None</td>\n      <td>B00009</td>\n      <td>17.000000</td>\n    </tr>\n    <tr>\n      <th>3</th>\n      <td>B00037</td>\n      <td>2021-01-01 00:13:09</td>\n      <td>2021-01-01 00:21:26</td>\n      <td>-1.0</td>\n      <td>72.0</td>\n      <td>None</td>\n      <td>B00037</td>\n      <td>8.283333</td>\n    </tr>\n    <tr>\n      <th>4</th>\n      <td>B00037</td>\n      <td>2021-01-01 00:38:31</td>\n      <td>2021-01-01 00:53:44</td>\n      <td>-1.0</td>\n      <td>61.0</td>\n      <td>None</td>\n      <td>B00037</td>\n      <td>15.216667</td>\n    </tr>\n    <tr>\n      <th>5</th>\n      <td>B00037</td>\n      <td>2021-01-01 00:59:02</td>\n      <td>2021-01-01 01:08:05</td>\n      <td>-1.0</td>\n      <td>71.0</td>\n      <td>None</td>\n      <td>B00037</td>\n      <td>9.050000</td>\n    </tr>\n    <tr>\n      <th>...</th>\n      <td>...</td>\n      <td>...</td>\n      <td>...</td>\n      <td>...</td>\n      <td>...</td>\n      <td>...</td>\n      <td>...</td>\n      <td>...</td>\n    </tr>\n    <tr>\n      <th>1154107</th>\n      <td>B03266</td>\n      <td>2021-01-31 23:43:03</td>\n      <td>2021-01-31 23:51:48</td>\n      <td>7.0</td>\n      <td>7.0</td>\n      <td>None</td>\n      <td>B03266</td>\n      <td>8.750000</td>\n    </tr>\n    <tr>\n      <th>1154108</th>\n      <td>B03284</td>\n      <td>2021-01-31 23:50:27</td>\n      <td>2021-02-01 00:48:03</td>\n      <td>44.0</td>\n      <td>91.0</td>\n      <td>None</td>\n      <td></td>\n      <td>57.600000</td>\n    </tr>\n    <tr>\n      <th>1154109</th>\n      <td>B03285</td>\n      <td>2021-01-31 23:13:46</td>\n      <td>2021-01-31 23:29:58</td>\n      <td>171.0</td>\n      <td>171.0</td>\n      <td>None</td>\n      <td>B03285</td>\n      <td>16.200000</td>\n    </tr>\n    <tr>\n      <th>1154110</th>\n      <td>B03285</td>\n      <td>2021-01-31 23:58:03</td>\n      <td>2021-02-01 00:17:29</td>\n      <td>15.0</td>\n      <td>15.0</td>\n      <td>None</td>\n      <td>B03285</td>\n      <td>19.433333</td>\n    </tr>\n    <tr>\n      <th>1154111</th>\n      <td>B03321</td>\n      <td>2021-01-31 23:39:00</td>\n      <td>2021-02-01 00:15:00</td>\n      <td>-1.0</td>\n      <td>-1.0</td>\n      <td>None</td>\n      <td>B03321</td>\n      <td>36.000000</td>\n    </tr>\n  </tbody>\n</table>\n<p>1109826 rows × 8 columns</p>\n</div>"
     },
     "metadata": {}
    }
   ]
  },
  {
   "cell_type": "code",
   "metadata": {
    "cell_id": "9de674ad9e0a400da81e756d70bf9fb5",
    "tags": [],
    "deepnote_to_be_reexecuted": false,
    "source_hash": "5c61c830",
    "execution_start": 1653312346655,
    "execution_millis": 125,
    "deepnote_cell_type": "code",
    "deepnote_cell_height": 154.1875,
    "deepnote_output_heights": [
     21.1875
    ]
   },
   "source": "# Fraction of missing values for PUlocationID\nfrac_of_missing_values = (jan_data[jan_data[\"PUlocationID\"] == -1][\"PUlocationID\"].count() / jan_data[\"PUlocationID\"].count()) * 100\nfrac_of_missing_values",
   "execution_count": 16,
   "outputs": [
    {
     "output_type": "execute_result",
     "execution_count": 16,
     "data": {
      "text/plain": "83.52732770722618"
     },
     "metadata": {}
    }
   ]
  },
  {
   "cell_type": "markdown",
   "source": "### Q4. One-hot encoding\nLet's apply one-hot encoding to the pickup and dropoff location IDs. We'll use only these two features for our model.\n\nTurn the dataframe into a list of dictionaries. Fit a dictionary vectorizer. Get a feature matrix from it. What's the dimensionality of this matrix? (The number of columns).\n\n### Answer:\n525\n",
   "metadata": {
    "cell_id": "d2391521925d459f8239185a3e5d39de",
    "tags": [],
    "deepnote_cell_type": "markdown",
    "deepnote_cell_height": 271.953125
   }
  },
  {
   "cell_type": "code",
   "metadata": {
    "cell_id": "40468e725f104b1a8360654b20b2f931",
    "tags": [],
    "deepnote_to_be_reexecuted": false,
    "source_hash": "72db3ff9",
    "execution_start": 1653312346784,
    "execution_millis": 1983,
    "deepnote_cell_type": "code",
    "deepnote_cell_height": 99
   },
   "source": "features = [\"PUlocationID\", \"DOlocationID\"]\ntrain_data = jan_data[features].astype(str)",
   "execution_count": 17,
   "outputs": []
  },
  {
   "cell_type": "code",
   "metadata": {
    "cell_id": "e794ee0b65de4d7aa5b8de68c5847977",
    "tags": [],
    "deepnote_to_be_reexecuted": false,
    "source_hash": "ba271ca2",
    "execution_start": 1653312348774,
    "execution_millis": 8222,
    "deepnote_cell_type": "code",
    "deepnote_cell_height": 99,
    "deepnote_output_heights": [
     611
    ]
   },
   "source": "# Convert the data to dictonary\ntrain_dict = train_data[features].to_dict(orient=\"records\")",
   "execution_count": 18,
   "outputs": []
  },
  {
   "cell_type": "code",
   "metadata": {
    "cell_id": "f9a8639829ff4534bc3c5b125353aa60",
    "tags": [],
    "deepnote_to_be_reexecuted": false,
    "source_hash": "5701b2b3",
    "execution_start": 1653312356996,
    "execution_millis": 6289,
    "deepnote_cell_type": "code",
    "deepnote_cell_height": 117,
    "deepnote_output_heights": [
     21.1875
    ]
   },
   "source": "# Get the feature matrix\nvectorizer = DictVectorizer()\nX_train = vectorizer.fit_transform(train_dict)",
   "execution_count": 19,
   "outputs": []
  },
  {
   "cell_type": "code",
   "metadata": {
    "cell_id": "cb44e6fbf7cf4ee3b2054e7539e13084",
    "tags": [],
    "deepnote_to_be_reexecuted": false,
    "source_hash": "9d8f5866",
    "execution_start": 1653312363289,
    "execution_millis": 20,
    "deepnote_cell_type": "code",
    "deepnote_cell_height": 118.1875,
    "deepnote_output_heights": [
     21.1875
    ]
   },
   "source": "X_train.get_shape()",
   "execution_count": 20,
   "outputs": [
    {
     "output_type": "execute_result",
     "execution_count": 20,
     "data": {
      "text/plain": "(1109826, 525)"
     },
     "metadata": {}
    }
   ]
  },
  {
   "cell_type": "markdown",
   "source": "### Q5. Training a model\nNow let's use the feature matrix from the previous step to train a model.\n\nTrain a plain linear regression model with default parameters. Calculate the RMSE of the model on the training data.\n\n### Answer:\n10.52",
   "metadata": {
    "cell_id": "b6a46228094c4505ba2f8fa565f8bece",
    "tags": [],
    "deepnote_cell_type": "markdown",
    "deepnote_cell_height": 249.5625
   }
  },
  {
   "cell_type": "code",
   "metadata": {
    "cell_id": "ed27c3990c544e71b468e23f376cd86c",
    "tags": [],
    "deepnote_to_be_reexecuted": false,
    "source_hash": "1181b8e8",
    "execution_start": 1653312363321,
    "execution_millis": 15,
    "deepnote_cell_type": "code",
    "deepnote_cell_height": 99
   },
   "source": "train_data['duration'] = jan_data[\"duration\"]\ny_train = train_data[\"duration\"].values",
   "execution_count": 21,
   "outputs": []
  },
  {
   "cell_type": "code",
   "metadata": {
    "cell_id": "635cadd01a784efb9e624c7bc5ba4188",
    "tags": [],
    "deepnote_to_be_reexecuted": false,
    "source_hash": "ed857f47",
    "execution_start": 1653312363348,
    "execution_millis": 27,
    "deepnote_cell_type": "code",
    "deepnote_cell_height": 137.375,
    "deepnote_output_heights": [
     40.375
    ]
   },
   "source": "y_train",
   "execution_count": 22,
   "outputs": [
    {
     "output_type": "execute_result",
     "execution_count": 22,
     "data": {
      "text/plain": "array([17.        , 17.        ,  8.28333333, ..., 16.2       ,\n       19.43333333, 36.        ])"
     },
     "metadata": {}
    }
   ]
  },
  {
   "cell_type": "code",
   "metadata": {
    "cell_id": "a49bb1e94934434d99ee522b13589c16",
    "tags": [],
    "deepnote_to_be_reexecuted": false,
    "source_hash": "99675cc8",
    "execution_start": 1653312363379,
    "execution_millis": 25068,
    "deepnote_cell_type": "code",
    "deepnote_cell_height": 154.1875,
    "deepnote_output_heights": [
     21.1875
    ]
   },
   "source": "# Fit a linear regression model\nlr_model = LinearRegression()\nlr_model.fit(X_train, y_train)",
   "execution_count": 23,
   "outputs": [
    {
     "output_type": "execute_result",
     "execution_count": 23,
     "data": {
      "text/plain": "LinearRegression()"
     },
     "metadata": {}
    }
   ]
  },
  {
   "cell_type": "code",
   "metadata": {
    "cell_id": "51fbf81410a54b389db4f76b0f64a65e",
    "tags": [],
    "deepnote_to_be_reexecuted": false,
    "source_hash": "4d9ff214",
    "execution_start": 1653312388464,
    "execution_millis": 3,
    "deepnote_cell_type": "code",
    "deepnote_cell_height": 99
   },
   "source": "# Predict on the train data\ny_pred = lr_model.predict(X_train)",
   "execution_count": 24,
   "outputs": []
  },
  {
   "cell_type": "code",
   "metadata": {
    "cell_id": "6d365422ca3544808dcd220c9b807906",
    "tags": [],
    "deepnote_to_be_reexecuted": false,
    "source_hash": "6301e045",
    "execution_start": 1653312388517,
    "execution_millis": 2,
    "deepnote_cell_type": "code",
    "deepnote_cell_height": 136.1875,
    "deepnote_output_heights": [
     21.1875
    ]
   },
   "source": "# RMSE\nmean_squared_error(y_train, y_pred, squared=False)",
   "execution_count": 25,
   "outputs": [
    {
     "output_type": "execute_result",
     "execution_count": 25,
     "data": {
      "text/plain": "10.52851910720242"
     },
     "metadata": {}
    }
   ]
  },
  {
   "cell_type": "markdown",
   "source": "### Q6. Evaluating the model\nNow let's apply this model to the validation dataset (Feb 2021).\n\nWhat's the RMSE on validation?\n\n### Answer:",
   "metadata": {
    "cell_id": "b8ef40efa40045dc9d1400d9e10c8237",
    "tags": [],
    "deepnote_cell_type": "markdown",
    "deepnote_cell_height": 188.78125
   }
  },
  {
   "cell_type": "code",
   "metadata": {
    "cell_id": "b8ca35ba9e704d0eba2cb75f5e84b548",
    "tags": [],
    "deepnote_to_be_reexecuted": false,
    "source_hash": "a53dff3",
    "execution_start": 1653312609138,
    "execution_millis": 685,
    "deepnote_cell_type": "code",
    "deepnote_cell_height": 99
   },
   "source": "# Read feb data\nfeb_data = pd.read_parquet(\"data/fhv_tripdata_2021-02.parquet\")",
   "execution_count": 26,
   "outputs": []
  },
  {
   "cell_type": "code",
   "metadata": {
    "cell_id": "6745f46ca6d44773bed00097830cedd5",
    "tags": [],
    "deepnote_to_be_reexecuted": false,
    "source_hash": "59ad61ac",
    "execution_start": 1653312472364,
    "execution_millis": 28561,
    "owner_user_id": "17c7069a-3ae4-462e-9968-cf72643aef7c",
    "deepnote_cell_type": "code",
    "deepnote_cell_height": 387
   },
   "source": "# Perform the same preprocessing on feb data\n# Get the duration\nfeb_data[\"duration\"] = feb_data[\"dropOff_datetime\"] - feb_data[\"pickup_datetime\"]\nfeb_data['duration'] = feb_data['duration'].apply(lambda val: val.total_seconds() / 60)\n\n# Subset only data with duration between 1 and 60 mins\nfeb_data = feb_data[(feb_data[\"duration\"] >= 1) & (feb_data[\"duration\"] <= 60)]\n\n# Fill missing values\nfeb_data[\"PUlocationID\"].fillna(-1, inplace=True)\nfeb_data[\"DOlocationID\"].fillna(-1, inplace=True)\n\n# One hot encoding\nfeatures = [\"PUlocationID\", \"DOlocationID\"]\nvalid_data = feb_data[features].astype(str)\n\n# Convert the data to dictonary\nvalid_dict = valid_data[features].to_dict(orient=\"records\")",
   "execution_count": 33,
   "outputs": []
  },
  {
   "cell_type": "code",
   "metadata": {
    "cell_id": "79deea6e83904eb6b45387fd4294e8f7",
    "tags": [],
    "deepnote_to_be_reexecuted": false,
    "source_hash": "a20aa0b6",
    "execution_start": 1653312500968,
    "execution_millis": 5795,
    "deepnote_cell_type": "code",
    "deepnote_cell_height": 209,
    "deepnote_output_heights": [
     40
    ]
   },
   "source": "# Fit the vectorizer and set the target\nX_valid = vectorizer.transform(valid_dict)\n\ny_valid = feb_data[\"duration\"].values\ny_valid",
   "execution_count": 34,
   "outputs": [
    {
     "output_type": "execute_result",
     "execution_count": 34,
     "data": {
      "text/plain": "array([10.66666667, 14.56666667,  7.95      , ..., 25.38333333,\n       18.05      , 16.        ])"
     },
     "metadata": {}
    }
   ]
  },
  {
   "cell_type": "code",
   "metadata": {
    "cell_id": "7d4339d7aaba4a8ea2d5f28ade37f254",
    "tags": [],
    "deepnote_to_be_reexecuted": false,
    "source_hash": "fc8fb971",
    "execution_start": 1653312506772,
    "execution_millis": 60,
    "deepnote_cell_type": "code",
    "deepnote_cell_height": 99,
    "deepnote_output_heights": [
     21
    ]
   },
   "source": "# Get the prediction for validation data\ny_pred = lr_model.predict(X_valid)",
   "execution_count": 35,
   "outputs": []
  },
  {
   "cell_type": "code",
   "metadata": {
    "cell_id": "9ca94706b0c5493ea53a869b39c891d0",
    "tags": [],
    "deepnote_to_be_reexecuted": false,
    "source_hash": "925723ca",
    "execution_start": 1653312506844,
    "execution_millis": 39,
    "deepnote_cell_type": "code",
    "deepnote_cell_height": 136,
    "deepnote_output_heights": [
     21
    ]
   },
   "source": "# RMSE for validataion data\nmean_squared_error(y_valid, y_pred, squared=False)",
   "execution_count": 36,
   "outputs": [
    {
     "output_type": "execute_result",
     "execution_count": 36,
     "data": {
      "text/plain": "11.014283129211448"
     },
     "metadata": {}
    }
   ]
  },
  {
   "cell_type": "markdown",
   "source": "<a style='text-decoration:none;line-height:16px;display:flex;color:#5B5B62;padding:10px;justify-content:end;' href='https://deepnote.com?utm_source=created-in-deepnote-cell&projectId=a9bcf353-e2b1-41fb-bcee-411bfba26a01' target=\"_blank\">\n<img alt='Created in deepnote.com' style='display:inline;max-height:16px;margin:0px;margin-right:7.5px;' src='data:image/svg+xml;base64,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' > </img>\nCreated in <span style='font-weight:600;margin-left:4px;'>Deepnote</span></a>",
   "metadata": {
    "tags": [],
    "created_in_deepnote_cell": true,
    "deepnote_cell_type": "markdown"
   }
  }
 ],
 "nbformat": 4,
 "nbformat_minor": 2,
 "metadata": {
  "orig_nbformat": 2,
  "deepnote": {},
  "deepnote_notebook_id": "a9c38bab-bd38-4db1-8f1e-1e01daaa300a",
  "deepnote_execution_queue": [
   {
    "cellId": "b8ca35ba9e704d0eba2cb75f5e84b548",
    "sessionId": "25b8e915-7e61-455e-80f1-80617904f484",
    "msgId": "fe22969e-49e2-431c-972c-257099fe0c40"
   }
  ]
 }
}